{
 "cells": [
  {
   "cell_type": "code",
   "execution_count": 3,
   "id": "be68497a",
   "metadata": {},
   "outputs": [],
   "source": [
    "import numpy as np"
   ]
  },
  {
   "cell_type": "markdown",
   "id": "8817ba5a",
   "metadata": {},
   "source": [
    "What is a Neural Network?\n",
    "\n",
    "The funtion neural_network is a representation of a neural network in python. It takes in inputs and weights and multiplies each data point to predict a particular value. \n",
    "\n",
    "What is Input data?\n",
    "It is a number that is recorded in the real world and it usually somethign that is knowable, it can be tooday's temperature. or yesterday's stock price or the image of a cat. \n",
    "\n",
    "What is a Prediction?\n",
    "A prediction is what the neural informs is based on the provided input such as \"given yesterday's Microsoft stock price, the stock price will be 150.52\".\n",
    "\n",
    "Predictions are not always right, sometime the neural networks makes mistakes and it can also learn from these mistakes, if it sees the prediction was weither too high or too low, it makes changes the weigh either up or down based on the predictions results so as to predict more accurately next time. \n",
    "\n",
    "\n",
    "How does the Neural Network work?\n",
    "Basically, it mulplies the input by a weight, that is it scales the input by a certail anount. The weight is a number that is learned by the neural network. The neural network is trained on a dataset, and it learns the weights that will give it the best results. The weights are adjusted based on the difference between the predicted value and the actual value. "
   ]
  },
  {
   "cell_type": "code",
   "execution_count": 4,
   "id": "dcbd1242",
   "metadata": {},
   "outputs": [],
   "source": [
    "# simple neural network making a prediction on if a team would win a game\n",
    "# based on the number of toes of the players in the team\n",
    "\n",
    "# function contains an empty network as no input is provided\n",
    "\n",
    "weight = 0.1\n",
    "def neural_network(input, weight):\n",
    "    prediction = input * weight \n",
    "    return prediction "
   ]
  },
  {
   "cell_type": "code",
   "execution_count": 5,
   "id": "cf4670e2",
   "metadata": {},
   "outputs": [
    {
     "name": "stdout",
     "output_type": "stream",
     "text": [
      "0.8500000000000001\n"
     ]
    }
   ],
   "source": [
    "# inserting one input datapoint to the function \n",
    "num_of_toes = [8.5, 9.5, 10, 9]\n",
    "input = num_of_toes[0]\n",
    "pred = neural_network(input, weight)\n",
    "print(pred)"
   ]
  },
  {
   "cell_type": "markdown",
   "id": "665d0fa7",
   "metadata": {},
   "source": [
    "# Making a prediction with multiple inputs\n",
    "\n",
    "now we want to provide muliple inputs to the function tomake a prediction\n",
    "since toes are not the only factors that can detremine if players would play well and \n",
    "win a game we would add toes, wlrec, nfans\n",
    "toes = courrent average number of toes per player\n",
    "wlrec = current games won (%)\n",
    "nfans = fan count in million\n",
    "we would then multiply each of these inputs by a weight to get a prediction\n",
    "\n",
    "The prediction is 0.98% which shows that adding more data or context to the neural network\n",
    "hekps improve the prediction results compared to when we had only toes as input which gave us a \n",
    "prediction of 0.85%\n",
    "\n",
    "\n",
    "The new property introced here is that we have multiple inputs and we have to sum their \n",
    "respective predictions. Therefore, we multiply each input byt its respective weight and then sum all\n",
    "the precitions tigether and this called *Weighted Sum of the Input or Weighted Sum*. We can also refer to it as \n",
    "*Dot Product*. \n",
    "\n",
    "Example: \n",
    "inputs are [toes, wlrec, nfans]\n",
    "Here we would multiply the inputs values in index 1 their corresponding weight value \n",
    "toes[1] = 9.5 * 0.1 = 0.95\n",
    "wlrec[1] = 0.8 * 0.2 = 0.16\n",
    "nfans[1] = 1.3 * 0.0 = 0.00\n",
    "\n",
    "Then we sum all to get index 1 prediction\n",
    "0.95 + 0.16 + 0.00 = 1.11"
   ]
  },
  {
   "cell_type": "code",
   "execution_count": 6,
   "id": "9e95fbb8",
   "metadata": {},
   "outputs": [],
   "source": [
    "# now we want to provide muliple inputs to the function tomake a prediction\n",
    "# since toes are not the only factors that can detremine if players would play well and\n",
    "weights = [0.1, 0.2, 0]\n",
    "def neural_network(input, weight):\n",
    "    prediction = w_sum(input * weights) \n",
    "    return prediction "
   ]
  },
  {
   "cell_type": "code",
   "execution_count": 7,
   "id": "72833098",
   "metadata": {},
   "outputs": [
    {
     "name": "stdout",
     "output_type": "stream",
     "text": [
      "<class 'float'>\n",
      "<class 'list'>\n"
     ]
    }
   ],
   "source": [
    "print(type(input))\n",
    "print(type(weights))"
   ]
  },
  {
   "cell_type": "code",
   "execution_count": 8,
   "id": "90a7a45f",
   "metadata": {},
   "outputs": [
    {
     "name": "stdout",
     "output_type": "stream",
     "text": [
      "0.9800000000000001\n"
     ]
    }
   ],
   "source": [
    "\n",
    "\n",
    "toes = [8.5, 9.5, 9.9, 9.0]\n",
    "wlrec = [0.65, 0.8, 0.8, 0.9]\n",
    "nfans = [1.2, 1.3, 0.5, 1.0]\n",
    "\n",
    "input = [toes[0], wlrec[0], nfans[0]]\n",
    "weights = [0.1, 0.2, 0]\n",
    "\n",
    "\n",
    "def w_sum(a, b):\n",
    "    assert(len(a) == len(b))\n",
    "    output = 0.0\n",
    "    for i in range(len(a)):\n",
    "        output += (a[i] * b[i])\n",
    "    return output\n",
    "\n",
    "def neural_network(input, weight):\n",
    "    prediction = w_sum(input, weights) \n",
    "    return prediction \n",
    "\n",
    "pred = neural_network(input, weights)\n",
    "print(pred)\n",
    "\n"
   ]
  },
  {
   "cell_type": "code",
   "execution_count": 9,
   "id": "4b607f10",
   "metadata": {},
   "outputs": [
    {
     "name": "stdout",
     "output_type": "stream",
     "text": [
      "0.9800000000000001\n"
     ]
    }
   ],
   "source": [
    "\n",
    "print(pred)"
   ]
  },
  {
   "cell_type": "markdown",
   "id": "bff46546",
   "metadata": {},
   "source": [
    "This new need to process multiple inputs at a time justifies the use of a new tool.is called a *Vector*. it. A vector is nothing other than a list of numbers. In the example, input is a vector and weights is a vector. \n",
    "\n",
    "Anytime you perform a mathematical operation between two vectors of equal length where you pair up values according to their position in the vector (again: position 0 with 0, 1 with 1, and so on), it’s called an elementwise operation. Thus elementwise addition sums two vectors, and elementwise multiplication multiplies two vectors.\n",
    "\n",
    "\n",
    "## Challenge: Vector math\n",
    "\n",
    "Being able to manipulate vectors is a cornerstone technique for deep learning. See if you can\n",
    "write functions that perform the following operations:\n",
    "• def elementwise_multiplication(vec_a, vec_b)\n",
    "• def elementwise_addition(vec_a, vec_b)\n",
    "• def vector_sum(vec_a)\n",
    "• def vector_average(vec_a)\n",
    "Then, see if you can use two of these methods to perform a dot product!"
   ]
  },
  {
   "cell_type": "code",
   "execution_count": 10,
   "id": "23a4ce85",
   "metadata": {},
   "outputs": [
    {
     "name": "stdout",
     "output_type": "stream",
     "text": [
      "Elementwise Multiplication: [0.8500000000000001, 1.9000000000000001, 0.0]\n",
      "Elementwise Addition: [8.6, 9.7, 9.9]\n",
      "Vector Sum: 27.9\n",
      "Vector Mean: 9.3\n"
     ]
    }
   ],
   "source": [
    "# weights = [0.1, 0.2, 0.3]\n",
    "toes = [8.5, 9.5, 9.9]\n",
    "def elementwise_multiplication(a, b):\n",
    "    assert(len(a) == len(b))\n",
    "    output = []\n",
    "    for i in range(len(a)):\n",
    "        output.append(a[i] * b[i])\n",
    "    return output\n",
    "\n",
    "\n",
    "def elementwise_addition(a, b):\n",
    "    assert(len(a) == len(b))\n",
    "    output = []\n",
    "    for i in range(len(a)):\n",
    "        output.append(a[i] + b[i])\n",
    "    return output\n",
    "\n",
    "def vector_sum(a):\n",
    "    output = 0.0\n",
    "    for i in range(len(a)):\n",
    "        output += a[i]\n",
    "    return output\n",
    "\n",
    "def vector_mean(a):\n",
    "    output = vector_sum(a)\n",
    "    return round(output / len(a), 2)\n",
    "\n",
    "\n",
    "toes_mult = elementwise_multiplication(toes, weights)\n",
    "toes_add = elementwise_addition(toes, weights)\n",
    "toes_sum = vector_sum(toes)\n",
    "toes_mean = vector_mean(toes)\n",
    "\n",
    "print(\"Elementwise Multiplication:\", toes_mult)\n",
    "print(\"Elementwise Addition:\", toes_add)\n",
    "print(\"Vector Sum:\", toes_sum)\n",
    "print(\"Vector Mean:\", toes_mean)"
   ]
  },
  {
   "cell_type": "code",
   "execution_count": 11,
   "id": "6b216389",
   "metadata": {},
   "outputs": [
    {
     "name": "stdout",
     "output_type": "stream",
     "text": [
      "[0.8500000000000001, 0.13, 0.0]\n",
      "0.9800000000000001\n"
     ]
    }
   ],
   "source": [
    "inputsweights = elementwise_multiplication(input, weights)\n",
    "vectorsums = vector_sum(inputsweights)\n",
    "print(inputsweights)\n",
    "print(vectorsums)"
   ]
  },
  {
   "cell_type": "code",
   "execution_count": 12,
   "id": "90add04e",
   "metadata": {},
   "outputs": [
    {
     "name": "stdout",
     "output_type": "stream",
     "text": [
      "0.9800000000000001\n"
     ]
    }
   ],
   "source": [
    "# numpy implementation of multiple inputs to neural network \n",
    "\n",
    "weights = np.array([0.1, 0.2, 0])\n",
    "def neural_network(input, weights):\n",
    "    # dot function in numpy represents the dot product which earlier we used w_sum function\n",
    "    pred = input.dot(weights)\n",
    "    return pred\n",
    "\n",
    "\n",
    "toes = np.array([8.5, 9.5, 9.9, 9.0])\n",
    "wlrec = np.array([0.65, 0.8, 0.8, 0.9])\n",
    "nfans = np.array([1.2, 1.3, 0.5, 1.0])\n",
    "\n",
    "input = np.array([toes[0], wlrec[0], nfans[0]])\n",
    "pred = neural_network(input, weights)\n",
    "print(pred)"
   ]
  },
  {
   "cell_type": "markdown",
   "id": "16d06a37",
   "metadata": {},
   "source": [
    "### Note: \n",
    "Weights cant be shuffled, the weights simply means this is how much a particular feature contributes to the prediction of something. For our example the most sensitive weight is the wlrec with 0.2 and number of fans has the least with 0 therefore ist results are basically negligble in how the team performs. Even as wlrec has the most sensitive weight, the most dominant force in the high score is the number of toes not because the weight is the highest but because the input combined with the weight provides the highest results so far. \n",
    "\n",
    "\n",
    "# Making predictions with Multiple Outputs\n",
    "Neural networks can make multiple predictions using only one single input value. Predictions occurs the same as if there were three disconnected single weight neural networks. Using our example but this time around we would tweak it to see players emotions based on if they won or lost. So we want to predict three values hurt, happy or sad, we want to see the percentage of the teams who feel these emotions \n",
    "\n",
    "weights = [0.3, 0.2, 0.9]\n",
    "the first weight is for hurt, second for happy and the last for sad\n",
    "\n",
    "we would use the same values of our wlrec variable \n",
    "\n"
   ]
  },
  {
   "cell_type": "markdown",
   "id": "46efc943",
   "metadata": {},
   "source": []
  },
  {
   "cell_type": "code",
   "execution_count": 13,
   "id": "e8ccd09a",
   "metadata": {},
   "outputs": [
    {
     "name": "stdout",
     "output_type": "stream",
     "text": [
      "[0.195, 0.13, 0.5850000000000001]\n"
     ]
    }
   ],
   "source": [
    "weights = [0.3, 0.2, 0.9]\n",
    "\n",
    "def neural_network(input, weights):\n",
    "    pred = ele_mul(input, weights)\n",
    "    return pred\n",
    "\n",
    "wlrec = [0.65, 0.8, 0.8, 0.9]\n",
    "input = wlrec[0]\n",
    "\n",
    "\n",
    "def ele_mul(number, vectors):\n",
    "    output = [0, 0 ,0]\n",
    "    assert(len(output) == len(vectors))\n",
    "    for i in range(len(output)):\n",
    "        output[i] = number * vectors[i]\n",
    "    \n",
    "    return output\n",
    "\n",
    "def neural_network(input, weights):\n",
    "    pred = ele_mul(input, weights)\n",
    "    return pred\n",
    "\n",
    "pred = neural_network(input, weights)\n",
    "print(pred)"
   ]
  },
  {
   "cell_type": "markdown",
   "id": "27b7a96f",
   "metadata": {},
   "source": [
    "### Translating Results\n",
    "\n",
    "- 0.195 = hurt prediction \n",
    "- 0.13 = happy prediction\n",
    "- 0.585 = sad prediction"
   ]
  },
  {
   "cell_type": "markdown",
   "id": "c3157254",
   "metadata": {},
   "source": [
    "## Multiple Inputs for Multiple Outputs\n",
    "\n",
    "Neural networks can predict multiple outputs givcen multiple inputs. A weight connect each input node to each output node and the prediction is going to occur the usual manner. \n",
    "\n",
    "### How does this work?\n",
    "Previously we were working with one weights for each feature but here, instead of having one set of weights (for one output), you have multiple sets of weights — one for each output. This means you're doing multiple dot products, one for each output neuron.\n",
    "\n",
    "Example \n",
    "\n",
    "input = [9.5, 0.8, 1.3]\n",
    "\n",
    "weights = [\n",
    "    [0.1, 0.1, -0.3],  # weights for output neuron 1\n",
    "    [0.1, 0.2, 0.0],   # weights for output neuron 2\n",
    "    [0.0, 1.3, 0.1]    # weights for output neuron 3\n",
    "]\n",
    "\n",
    "\n",
    "### Math Breakdown\n",
    "We want to calculate:\n",
    "\n",
    "output= output=input * weight1, input * weight2, input * weight3\n",
    "​\n",
    "\n",
    "​\n",
    " \n",
    "Output 1= (9.5×0.1)+(0.8×0.1)+(1.3×−0.3)\n",
    "=(9.5×0.1)+(0.8×0.1)+(1.3×−0.3)\n",
    "=0.95+0.08−0.39= 0.64\n",
    "​\n",
    "Output 2 = (9.5×0.1)+(0.8×0.2)+(1.3×0.0)\n",
    "=(9.5×0.1)+(0.8×0.2)+(1.3×0.0)\n",
    "=0.95+0.16+0.0= 1.11\n",
    "​\n",
    " \n",
    "Output 3 = (9.5×0.0)+(0.8×1.3)+(1.3 + 0.1)\n",
    "=(9.5×0.0)+(0.8×1.3)+(1.3×0.1)\n",
    "=0.0+1.04+0.13= \n",
    "1.17\n",
    "​\n",
    "\n",
    "Here: Inputs are represented as vectors and weights as matrix, so we are having a vector_matrix multiplication, where each input is multiplied by a row in the matrix. The result is a vector of outputs.\n"
   ]
  },
  {
   "cell_type": "code",
   "execution_count": 14,
   "id": "b77e1dc6",
   "metadata": {},
   "outputs": [
    {
     "name": "stdout",
     "output_type": "stream",
     "text": [
      "3\n",
      "3\n",
      "[0.555, 0.9800000000000001, 0.9650000000000001]\n"
     ]
    }
   ],
   "source": [
    "\n",
    "weights =[[ 0.1, 0.1, -0.3],\n",
    "          [0.1, 0.2, 0.0],\n",
    "          [0.0, 1.3, 0.1]]\n",
    "\n",
    "def neural_network(input, weights):\n",
    "    pred = vect_mat_mul(input, weights)\n",
    "    return pred\n",
    "\n",
    "\n",
    "toes = [8.5, 9.5, 9.9, 9.0]\n",
    "wlrec = [0.65, 0.8, 0.8, 0.9]\n",
    "nfans = [1.2, 1.3, 0.5, 1.0]\n",
    "input = [toes[0], wlrec[0], nfans[0]]\n",
    "print(len(input))\n",
    "print(len(weights[0]))\n",
    "\n",
    "def w_sum(a, b):\n",
    "    assert(len(a) == len(b))\n",
    "    output = 0.0\n",
    "    for i in range(len(a)):\n",
    "        output += (a[i] * b[i])\n",
    "    return output\n",
    "\n",
    "def vect_mat_mul(vect, matrix):\n",
    "    assert(len(vect) == len(matrix))\n",
    "    output = [0, 0, 0]\n",
    "    for i in range(len(vect)):\n",
    "        output[i] = w_sum(vect, matrix[i])\n",
    "    return output\n",
    "    \n",
    "def neural_network(input, weights):\n",
    "    pred = vect_mat_mul(input, weights)\n",
    "    return pred\n",
    "\n",
    "pred = neural_network(input, weights)\n",
    "print(pred)"
   ]
  },
  {
   "cell_type": "markdown",
   "id": "ee5cae3b",
   "metadata": {},
   "source": [
    "# Neural Networks can be stacked\n",
    "What does this mean? \n",
    "An output from one layer can be used as an input to another layer. This is called a stacked neural network. "
   ]
  },
  {
   "cell_type": "code",
   "execution_count": null,
   "id": "cbe98785",
   "metadata": {},
   "outputs": [
    {
     "name": "stdout",
     "output_type": "stream",
     "text": [
      "[ 0.496  1.256 -0.286]\n"
     ]
    }
   ],
   "source": [
    "# Lets implement a stacked neural network with numpy \n",
    "ih_wgt = np.array([\n",
    "                #toes, wlrec, nfans\n",
    "              [0.1,0.2, -0.1], #hid[0]\n",
    "              [-0.1, 0.1, 0.9], #hid[1]\n",
    "                [0.1, 0.4, 0.1]]) #hid[\n",
    " \n",
    "hp_wgt = np.array([\n",
    "    #hid[0], hid[1], hid[2]\n",
    "    [0.3, 1.1, -0.3], # hurt?\n",
    "    [0.1, 0.2, 0.0], # win?\n",
    "    [0.0, 1.3, 0.1]  # sad?\n",
    "])\n",
    "\n",
    "weights = [ih_wgt, hp_wgt]\n",
    "def neural_network(input, weights):\n",
    "    hid = input.dot(weights[0]) \n",
    "    pred = hid.dot(weights[1]) \n",
    "    return pred\n",
    "toes = np.array([8.5, 9.5, 9.9, 9.0]) \n",
    "wlrec = np.array([0.65,0.8, 0.8, 0.9]) \n",
    "nfans = np.array([1.2, 1.3, 0.5, 1.0])\n",
    "input = np.array([toes[0],wlrec[0],nfans[0]])\n",
    "pred = neural_network(input,weights) \n",
    "print(pred)"
   ]
  },
  {
   "cell_type": "markdown",
   "id": "ae57af1e",
   "metadata": {},
   "source": [
    "Here all we have discussed is a forl of Forward Propagation, where a neural network takes input data and makes a prediction. It is called Forward Propagation because we are propagating activations forward through the network. In our examples, activations are all the numbers that are not weights and are unique for every prediction. "
   ]
  }
 ],
 "metadata": {
  "kernelspec": {
   "display_name": "base",
   "language": "python",
   "name": "python3"
  },
  "language_info": {
   "codemirror_mode": {
    "name": "ipython",
    "version": 3
   },
   "file_extension": ".py",
   "mimetype": "text/x-python",
   "name": "python",
   "nbconvert_exporter": "python",
   "pygments_lexer": "ipython3",
   "version": "3.10.9"
  }
 },
 "nbformat": 4,
 "nbformat_minor": 5
}
