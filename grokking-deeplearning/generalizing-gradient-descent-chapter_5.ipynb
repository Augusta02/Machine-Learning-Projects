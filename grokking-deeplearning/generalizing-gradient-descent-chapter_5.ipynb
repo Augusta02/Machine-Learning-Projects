{
 "cells": [
  {
   "cell_type": "markdown",
   "id": "860b9e64",
   "metadata": {},
   "source": [
    "# Gradient Descent Learning with Multiple Inputs\n",
    "\n",
    "We have been looking at how Gradient Descent could be applied in updating weight for one neuron. Here we are going to see how we can use same logic for multiple inputs. "
   ]
  },
  {
   "cell_type": "code",
   "execution_count": 34,
   "id": "3c66c7e5",
   "metadata": {},
   "outputs": [],
   "source": [
    "import numpy"
   ]
  },
  {
   "cell_type": "code",
   "execution_count": 5,
   "id": "1a758bf6",
   "metadata": {},
   "outputs": [
    {
     "name": "stdout",
     "output_type": "stream",
     "text": [
      "-0.1399999999999999\n"
     ]
    }
   ],
   "source": [
    "def w_sum(a, b):\n",
    "    assert(len(a) == len(b))\n",
    "    output = 0.0\n",
    "    for i in range(len(a)):\n",
    "        output += (a[i] * b[i])\n",
    "    return output\n",
    "\n",
    "\n",
    "weights = [0.1, 0.2, -0.1]\n",
    "def neural_network(input, weights):\n",
    "    pred = w_sum(input, weights)\n",
    "    return pred\n",
    "\n",
    "toes = [8.5, 9.5, 9.9, 9.0]\n",
    "wlrec = [0.65, 0.8, 0.8, 0.9]\n",
    "nfans = [1.2, 1.3, 0.5, 1.0]\n",
    "\n",
    "win_or_loss_binary = [1, 1, 0, 1]\n",
    "true = win_or_loss_binary[0]\n",
    "\n",
    "input = [toes[0], wlrec[0], nfans[0]]\n",
    "pred = neural_network(input, weights)\n",
    "error = (pred - true) ** 2\n",
    "delta = pred - true\n",
    "print(delta)\n"
   ]
  },
  {
   "cell_type": "code",
   "execution_count": 4,
   "id": "4bd4e843",
   "metadata": {},
   "outputs": [
    {
     "name": "stdout",
     "output_type": "stream",
     "text": [
      "[-1.189999999999999, -0.09099999999999994, -0.16799999999999987]\n"
     ]
    }
   ],
   "source": [
    "def ele_mul(number, vector):\n",
    "    output = [0, 0 ,0]\n",
    "    assert(len(output) == len(vector))\n",
    "    for i in range(len(vector)):\n",
    "        output[i] = number * vector[i]\n",
    "    \n",
    "    return output\n",
    "\n",
    "weight_deltas = ele_mul(delta, input)\n",
    "print(weight_deltas)"
   ]
  },
  {
   "cell_type": "markdown",
   "id": "2518159b",
   "metadata": {},
   "source": [
    "Everything applied is what we have seen previously, here we can see that the weights share the same output node, therefore they share same node delta. But the weights have different weight_deltas because their are different input values. "
   ]
  },
  {
   "cell_type": "code",
   "execution_count": 12,
   "id": "c3217aa2",
   "metadata": {},
   "outputs": [
    {
     "name": "stdout",
     "output_type": "stream",
     "text": [
      "Weights:[0.11850028301433213, 0.20091, -0.09832]\n",
      "Weight Deltas:[-0.00887304034336045, 0, 0]\n"
     ]
    }
   ],
   "source": [
    "# Updating ther weights\n",
    "alpha = 0.1\n",
    "\n",
    "for i in range(len(weights)):\n",
    "    weights[i] -= (alpha * weight_deltas[i])\n",
    "print(\"Weights:\" + str(weights)) \n",
    "print(\"Weight Deltas:\" + str(weight_deltas))"
   ]
  },
  {
   "cell_type": "code",
   "execution_count": 15,
   "id": "5aa4a5bd",
   "metadata": {},
   "outputs": [
    {
     "name": "stdout",
     "output_type": "stream",
     "text": [
      "Iteration:1\n",
      "Pred:-0.7368369349797492\n",
      "Error:3.01660253870985\n",
      "Delta:-1.7368369349797492\n",
      "Weights:[-0.08816993352702931, 0.20091, -0.09832]\n",
      "Weight_Deltas:\n",
      "[-14.763113947327868, -1.1289440077368371, -2.084204321975699]\n",
      "\n",
      "Iteration:2\n",
      "Pred:37.87956126812625\n",
      "Error:1360.102039329478\n",
      "Delta:36.87956126812625\n",
      "Weights:[4.340764250671331, 0.5395932023210511, 0.5269412965927097]\n",
      "Weight_Deltas:\n",
      "[313.47627077907316, 23.971714824282063, 44.255473521751505]\n",
      "\n",
      "Iteration:3\n",
      "Pred:-782.0913840770759\n",
      "Error:613232.1158157503\n",
      "Delta:-783.0913840770759\n",
      "Weights:[-89.70211698305062, -6.651921244963567, -12.749700759932741]\n",
      "Weight_Deltas:\n",
      "[-6656.276764655145, -509.00939965009934, -939.709660892491]\n",
      "\n"
     ]
    }
   ],
   "source": [
    "# for several steps \n",
    "def neural_network(input, weights): \n",
    "    out = 0\n",
    "    for i in range(len(input)):\n",
    "        out += (input[i] * weights[i])\n",
    "    return out\n",
    "\n",
    "def ele_mul(scalar, vector): \n",
    "    out = [0,0,0]\n",
    "    for i in range(len(out)):\n",
    "        out[i] = vector[i] * scalar\n",
    "    return out\n",
    "\n",
    "\n",
    "\n",
    "for iter in range(3):\n",
    "    pred = neural_network(input,weights)\n",
    "    error = (pred - true) ** 2  \n",
    "    delta = pred - true\n",
    "    weight_deltas=ele_mul(delta,input)\n",
    "    print(\"Iteration:\" + str(iter+1))\n",
    "    print(\"Pred:\" + str(pred))\n",
    "    print(\"Error:\" + str(error)) \n",
    "    print(\"Delta:\" + str(delta)) \n",
    "    print(\"Weights:\" + str(weights)) \n",
    "    print(\"Weight_Deltas:\") \n",
    "    print(str(weight_deltas))\n",
    "    print( )\n",
    "\n",
    "\n",
    "    for i in range(len(weights)): \n",
    "        weights[i]-=alpha*weight_deltas[i]\n"
   ]
  },
  {
   "cell_type": "code",
   "execution_count": 16,
   "id": "9f095e35",
   "metadata": {},
   "outputs": [
    {
     "name": "stdout",
     "output_type": "stream",
     "text": [
      "Iteration:1\n",
      "Pred:16628.96667664661\n",
      "Error:276489275.79967016\n",
      "Delta:16627.96667664661\n",
      "Weights:[1907.1809124134927, 146.05089865006622, 269.1631975078145]\n",
      "Weight_Deltas:\n",
      "[0, 10808.178339820297, 19953.560011975933]\n",
      "\n",
      "Iteration:2\n",
      "Pred:7338.090296070314\n",
      "Error:53832894.01268917\n",
      "Delta:7337.090296070314\n",
      "Weights:[1907.1809124134927, -3096.402603296023, -5716.9048060849655]\n",
      "Weight_Deltas:\n",
      "[0, 4769.108692445704, 8804.508355284377]\n",
      "\n",
      "Iteration:3\n",
      "Pred:3238.491093141027\n",
      "Error:10481348.578167481\n",
      "Delta:3237.491093141027\n",
      "Weights:[1907.1809124134927, -4527.135211029734, -8358.25731267028]\n",
      "Weight_Deltas:\n",
      "[0, 2104.3692105416676, 3884.989311769232]\n",
      "\n"
     ]
    }
   ],
   "source": [
    "# freezing one weight\n",
    "alpha = 0.3\n",
    "for iter in range(3):\n",
    "    pred = neural_network(input,weights)\n",
    "    error = (pred - true) ** 2 \n",
    "    delta = pred - true\n",
    "    weight_deltas=ele_mul(delta,input)\n",
    "    weight_deltas[0] = 0\n",
    "    print(\"Iteration:\" + str(iter+1))\n",
    "    print(\"Pred:\" + str(pred)) \n",
    "    print(\"Error:\" + str(error)) \n",
    "    print(\"Delta:\" + str(delta)) \n",
    "    print(\"Weights:\" + str(weights)) \n",
    "    print(\"Weight_Deltas:\") \n",
    "    print(str(weight_deltas))\n",
    "    print( )\n",
    "    for i in range(len(weights)): \n",
    "        weights[i]-=alpha*weight_deltas[i]"
   ]
  },
  {
   "cell_type": "markdown",
   "id": "d5fa5cc1",
   "metadata": {},
   "source": [
    "# Gradient Descent Learning with Multiple Outputs \n",
    "\n",
    "Neural networks can use a single input to make multiple predictions as we have seen in previously, but here we can are going to one step closer by using Gradient Descent to improve the weights anf get better predictions. \n",
    "\n",
    "Our input value would be win_loss_record, and we would be predicting if the team is happy or sad and  percentages of the team who are hurt based on their win_loss_record (wlrec)"
   ]
  },
  {
   "cell_type": "code",
   "execution_count": 31,
   "id": "a32e2d31",
   "metadata": {},
   "outputs": [
    {
     "name": "stdout",
     "output_type": "stream",
     "text": [
      "Delta[0.095, 0, 0]\n",
      "Delta[0.095, -0.87, 0]\n",
      "Delta[0.095, -0.87, 0.4850000000000001]\n",
      "Weights:[0.293825, 0.25655, 0.868475]\n",
      "Weight Deltas:[0.061750000000000006, -0.5655, 0.3152500000000001]\n"
     ]
    }
   ],
   "source": [
    "weights = [0.3, 0.2, 0.9]\n",
    "\n",
    "def neural_network(input, weights):\n",
    "    pred = ele_mul(input, weights)\n",
    "    return pred\n",
    "\n",
    "def scalar_ele_mul(number, vector):\n",
    "    output = [0, 0 ,0]\n",
    "    assert(len(output) == len(vector))\n",
    "    for i in range(len(vector)):\n",
    "        output[i] = number * vector[i]\n",
    "    \n",
    "    return output\n",
    "\n",
    "\n",
    "wlrec = [0.65, 1.0, 1.0, 0.9]\n",
    "hurt = [0.1, 0.0, 0.0, 0.1]\n",
    "win = [1, 1, 0, 1]\n",
    "sad = [0.1, 0.0, 0.1, 0.2]\n",
    "\n",
    "input = wlrec[0]\n",
    "true = [hurt[0], win[0], sad[0]]\n",
    "\n",
    "pred = neural_network(input, weights)\n",
    "\n",
    "error = [0,0, 0]\n",
    "delta = [0,0,0]\n",
    "\n",
    "for i in range(len(true)):\n",
    "    error[i] = (pred[i] - true[i]) ** 2\n",
    "    delta[i] = pred[i] - true[i]\n",
    "    print(\"Delta\" + str(delta))\n",
    "\n",
    "weight_deltas= scalar_ele_mul(input, delta)\n",
    "\n",
    "alpha = 0.1\n",
    "for i in range(len(weights)):\n",
    "    weights[i] -= (weight_deltas[i] * alpha)\n",
    "print(\"Weights:\" + str(weights))\n",
    "print(\"Weight Deltas:\" + str(weight_deltas))\n"
   ]
  },
  {
   "cell_type": "code",
   "execution_count": 37,
   "id": "4a3bbcd5",
   "metadata": {},
   "outputs": [],
   "source": [
    "# Gradient Descent with Multiple Inputs and Outputs \n",
    "            #toes #%win  #fans\n",
    "weights = [[0.1, 0.1 , -0.3], #hurt\n",
    "            [0.1, 0.2, 0.0], #win\n",
    "            [0.0, 1.3, 0.1]] # sad\n",
    "\n",
    "def vector_mat_mul(vect, matrix):\n",
    "    assert(len(vect) == len(matrix))\n",
    "    output = [0, 0, 0]\n",
    "    for i in range(len(vect)):\n",
    "        output[i] = w_sum(vect, matrix[i])\n",
    "    return output\n",
    "\n",
    "def neural_network(input, weights):\n",
    "    pred = vector_mat_mul(input, weights)\n",
    "    return pred\n",
    "\n",
    "def zeros_matrix(rows, cols):\n",
    "    return [[0 for _ in range(cols)] for _ in range(rows)]\n",
    "\n",
    "def outer_prod(vec_a, vec_b):\n",
    "    out = zeros_matrix(len(vec_a),len(vec_b))\n",
    "    for i in range(len(vec_a)): \n",
    "        for j in range(len(vec_b)):\n",
    "            out[i][j] = vec_a[i]*vec_b[j] \n",
    "    return out  \n",
    "\n",
    "toes = [8.5, 9.5, 9.9, 9.0] \n",
    "wlrec = [0.65,0.8, 0.8, 0.9] \n",
    "nfans = [1.2, 1.3, 0.5, 1.0]\n",
    "hurt = [0.1, 0.0, 0.0, 0.1] \n",
    "win =[1,1,0,1] \n",
    "sad = [0.1, 0.0, 0.1, 0.2]\n",
    "\n",
    "alpha = 0.01\n",
    "input = [toes[0], wlrec[0], nfans[0]]\n",
    "true = [hurt[0], win[0], sad[0]]\n",
    "\n",
    "pred = neural_network(input, weights)\n",
    "error = [0, 0, 0]\n",
    "delta = [0, 0, 0]\n",
    "\n",
    "for i in range(len(true)):\n",
    "    error[i] = (pred[i] - true[i]) ** 2\n",
    "    delta[i] = pred[i] - true[i]\n",
    "\n",
    "  \n",
    "weight_deltas = outer_prod(input, delta)\n",
    "\n",
    "for i in range(len(weights)):\n",
    "    for j in range(len(weights[0])):\n",
    "        weights[i][j] -= (alpha * weight_deltas[i][j])"
   ]
  }
 ],
 "metadata": {
  "kernelspec": {
   "display_name": "base",
   "language": "python",
   "name": "python3"
  },
  "language_info": {
   "codemirror_mode": {
    "name": "ipython",
    "version": 3
   },
   "file_extension": ".py",
   "mimetype": "text/x-python",
   "name": "python",
   "nbconvert_exporter": "python",
   "pygments_lexer": "ipython3",
   "version": "3.10.9"
  }
 },
 "nbformat": 4,
 "nbformat_minor": 5
}
