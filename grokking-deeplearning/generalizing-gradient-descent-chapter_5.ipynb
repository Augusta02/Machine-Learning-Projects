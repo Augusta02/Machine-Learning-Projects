{
 "cells": [
  {
   "cell_type": "markdown",
   "id": "860b9e64",
   "metadata": {},
   "source": [
    "# Gradient Descent Learning with Multiple Inputs\n",
    "\n",
    "We have been looking at how Gradient Descent could be applied in updating weight for one neuron. Here we are going to see how we can use same logic for multiple inputs. "
   ]
  },
  {
   "cell_type": "code",
   "execution_count": 5,
   "id": "1a758bf6",
   "metadata": {},
   "outputs": [
    {
     "name": "stdout",
     "output_type": "stream",
     "text": [
      "-0.1399999999999999\n"
     ]
    }
   ],
   "source": [
    "def w_sum(a, b):\n",
    "    assert(len(a) == len(b))\n",
    "    output = 0.0\n",
    "    for i in range(len(a)):\n",
    "        output += (a[i] * b[i])\n",
    "    return output\n",
    "\n",
    "\n",
    "weights = [0.1, 0.2, -0.1]\n",
    "def neural_network(input, weights):\n",
    "    pred = w_sum(input, weights)\n",
    "    return pred\n",
    "\n",
    "toes = [8.5, 9.5, 9.9, 9.0]\n",
    "wlrec = [0.65, 0.8, 0.8, 0.9]\n",
    "nfans = [1.2, 1.3, 0.5, 1.0]\n",
    "\n",
    "win_or_loss_binary = [1, 1, 0, 1]\n",
    "true = win_or_loss_binary[0]\n",
    "\n",
    "input = [toes[0], wlrec[0], nfans[0]]\n",
    "pred = neural_network(input, weights)\n",
    "error = (pred - true) ** 2\n",
    "delta = pred - true\n",
    "print(delta)\n"
   ]
  },
  {
   "cell_type": "code",
   "execution_count": 4,
   "id": "4bd4e843",
   "metadata": {},
   "outputs": [
    {
     "name": "stdout",
     "output_type": "stream",
     "text": [
      "[-1.189999999999999, -0.09099999999999994, -0.16799999999999987]\n"
     ]
    }
   ],
   "source": [
    "def ele_mul(number, vector):\n",
    "    output = [0, 0 ,0]\n",
    "    assert(len(output) == len(vector))\n",
    "    for i in range(len(vector)):\n",
    "        output[i] = number * vector[i]\n",
    "    \n",
    "    return output\n",
    "\n",
    "weight_deltas = ele_mul(delta, input)\n",
    "print(weight_deltas)"
   ]
  },
  {
   "cell_type": "markdown",
   "id": "2518159b",
   "metadata": {},
   "source": [
    "Everything applied is what we have seen previously, here we can see that the weights share the same output node, therefore they share same node delta. But the weights have different weight_deltas because their are different input values. "
   ]
  },
  {
   "cell_type": "code",
   "execution_count": 12,
   "id": "c3217aa2",
   "metadata": {},
   "outputs": [
    {
     "name": "stdout",
     "output_type": "stream",
     "text": [
      "Weights:[0.11850028301433213, 0.20091, -0.09832]\n",
      "Weight Deltas:[-0.00887304034336045, 0, 0]\n"
     ]
    }
   ],
   "source": [
    "# Updating ther weights\n",
    "alpha = 0.1\n",
    "\n",
    "for i in range(len(weights)):\n",
    "    weights[i] -= (alpha * weight_deltas[i])\n",
    "print(\"Weights:\" + str(weights)) \n",
    "print(\"Weight Deltas:\" + str(weight_deltas))"
   ]
  },
  {
   "cell_type": "code",
   "execution_count": 13,
   "id": "5aa4a5bd",
   "metadata": {},
   "outputs": [
    {
     "name": "stdout",
     "output_type": "stream",
     "text": [
      "Iteration:1\n",
      "Pred:1.007252405621823\n",
      "Error:5.259738730345065e-05\n",
      "Delta:0.007252405621823055\n",
      "Weights:[0.11850028301433213, 0.20091, -0.09832]\n",
      "Weight_Deltas:\n",
      "[0.061645447785495966, 0, 0]\n",
      "\n",
      "Iteration:2\n",
      "Pred:0.9548537750041516\n",
      "Error:0.0020381816313757685\n",
      "Delta:-0.045146224995848416\n",
      "Weights:[0.11233573823578254, 0.20091, -0.09832]\n",
      "Weight_Deltas:\n",
      "[-0.38374291246471154, 0, 0]\n",
      "\n",
      "Iteration:3\n",
      "Pred:1.2810352505991565\n",
      "Error:0.07898081207933068\n",
      "Delta:0.28103525059915646\n",
      "Weights:[0.1507100294822537, 0.20091, -0.09832]\n",
      "Weight_Deltas:\n",
      "[2.38879963009283, 0, 0]\n",
      "\n"
     ]
    }
   ],
   "source": [
    "# for several steps \n",
    "def neural_network(input, weights): \n",
    "    out = 0\n",
    "    for i in range(len(input)):\n",
    "        out += (input[i] * weights[i])\n",
    "        return out\n",
    "\n",
    "def ele_mul(scalar, vector): \n",
    "    out = [0,0,0]\n",
    "    for i in range(len(out)):\n",
    "        out[i] = vector[i] * scalar\n",
    "        return out\n",
    "\n",
    "\n",
    "\n",
    "for iter in range(3):\n",
    "    pred = neural_network(input,weights)\n",
    "    error = (pred - true) ** 2  \n",
    "    delta = pred - true\n",
    "    weight_deltas=ele_mul(delta,input)\n",
    "    print(\"Iteration:\" + str(iter+1))\n",
    "    print(\"Pred:\" + str(pred))\n",
    "    print(\"Error:\" + str(error)) \n",
    "    print(\"Delta:\" + str(delta)) \n",
    "    print(\"Weights:\" + str(weights)) \n",
    "    print(\"Weight_Deltas:\") \n",
    "    print(str(weight_deltas))\n",
    "    print( )\n",
    "\n",
    "\n",
    "    for i in range(len(weights)): \n",
    "        weights[i]-=alpha*weight_deltas[i]\n"
   ]
  },
  {
   "cell_type": "code",
   "execution_count": 14,
   "id": "9f095e35",
   "metadata": {},
   "outputs": [
    {
     "name": "stdout",
     "output_type": "stream",
     "text": [
      "Iteration:1\n",
      "Pred:-0.7494444349797492\n",
      "Error:3.0605558310816137\n",
      "Delta:-1.749444434979749\n",
      "Weights:[-0.08816993352702931, 0.20091, -0.09832]\n",
      "Weight_Deltas:\n",
      "[0, 0, 0]\n",
      "\n",
      "Iteration:2\n",
      "Pred:-0.7494444349797492\n",
      "Error:3.0605558310816137\n",
      "Delta:-1.749444434979749\n",
      "Weights:[-0.08816993352702931, 0.20091, -0.09832]\n",
      "Weight_Deltas:\n",
      "[0, 0, 0]\n",
      "\n",
      "Iteration:3\n",
      "Pred:-0.7494444349797492\n",
      "Error:3.0605558310816137\n",
      "Delta:-1.749444434979749\n",
      "Weights:[-0.08816993352702931, 0.20091, -0.09832]\n",
      "Weight_Deltas:\n",
      "[0, 0, 0]\n",
      "\n"
     ]
    }
   ],
   "source": [
    "\n",
    "alpha = 0.3\n",
    "for iter in range(3):\n",
    "    pred = neural_network(input,weights)\n",
    "    error = (pred - true) ** 2 \n",
    "    delta = pred - true\n",
    "    weight_deltas=ele_mul(delta,input)\n",
    "    weight_deltas[0] = 0\n",
    "    print(\"Iteration:\" + str(iter+1))\n",
    "    print(\"Pred:\" + str(pred)) \n",
    "    print(\"Error:\" + str(error)) \n",
    "    print(\"Delta:\" + str(delta)) \n",
    "    print(\"Weights:\" + str(weights)) \n",
    "    print(\"Weight_Deltas:\") \n",
    "    print(str(weight_deltas))\n",
    "    print( )\n",
    "    for i in range(len(weights)): \n",
    "        weights[i]-=alpha*weight_deltas[i]"
   ]
  }
 ],
 "metadata": {
  "kernelspec": {
   "display_name": "base",
   "language": "python",
   "name": "python3"
  },
  "language_info": {
   "codemirror_mode": {
    "name": "ipython",
    "version": 3
   },
   "file_extension": ".py",
   "mimetype": "text/x-python",
   "name": "python",
   "nbconvert_exporter": "python",
   "pygments_lexer": "ipython3",
   "version": "3.10.9"
  }
 },
 "nbformat": 4,
 "nbformat_minor": 5
}
